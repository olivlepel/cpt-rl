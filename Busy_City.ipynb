{
 "cells": [
  {
   "cell_type": "markdown",
   "id": "2fa0effb",
   "metadata": {
    "id": "2fa0effb"
   },
   "source": [
    "# Busy City\n"
   ]
  },
  {
   "cell_type": "code",
   "outputs": [],
   "source": [
    "from utils import *\n",
    "from training import *\n",
    "from policies import *\n",
    "from envs import *"
   ],
   "metadata": {
    "collapsed": false,
    "ExecuteTime": {
     "end_time": "2024-09-04T13:48:12.544103Z",
     "start_time": "2024-09-04T13:48:08.446977Z"
    }
   },
   "id": "caf46661",
   "execution_count": 2
  },
  {
   "cell_type": "markdown",
   "source": [],
   "metadata": {
    "collapsed": false
   },
   "id": "6b926bdd3ed6d4fc"
  },
  {
   "cell_type": "markdown",
   "source": [
    "## The Environement\n",
    "![The map](figures/busy_city.png)\n",
    "\n",
    "Each step induces a reward of -1. Red roads have a 1/10 chance of inducing a reward of -16 instead. Reaching the objective cell induces a reward of +10\n",
    "## Training with CPT-PG with a risk-averse $w$"
   ],
   "metadata": {
    "collapsed": false
   },
   "id": "65fdeacc9137c8b4"
  },
  {
   "cell_type": "code",
   "execution_count": null,
   "id": "633280c9-b0cd-4461-b47b-9b9ea0c0d0b4",
   "metadata": {
    "id": "633280c9-b0cd-4461-b47b-9b9ea0c0d0b4",
    "is_executing": true,
    "ExecuteTime": {
     "start_time": "2024-09-04T13:48:12.546144Z"
    }
   },
   "outputs": [
    {
     "name": "stderr",
     "output_type": "stream",
     "text": [
      "  0%|          | 0/1 [00:00<?, ?it/s]C:\\Users\\olivi\\Desktop\\code_restructure\\CPT-RL\\policies.py:32: UserWarning: Implicit dimension choice for softmax has been deprecated. Change the call to include dim=X as an argument.\n",
      "  return F.softmax(self.alpha*F.tanh(x/self.alpha))\n"
     ]
    }
   ],
   "source": [
    "outputs_pretraining = []\n",
    "LL, LLu,LLx,LLcpt = [],[],[],[]\n",
    "n_tries = 1\n",
    "\n",
    "for i in trange(n_tries):\n",
    "    policy = MLP_thin()\n",
    "    optimizer = optim.Adam(policy.parameters(), lr=0.01) # wp_three_segments\n",
    "\n",
    "    policy.setAlpha(7)\n",
    "    elt_pretrain = train(policy, optimizer,env=BusyCity(random_start=True), num_episodes=100,use_dict=True,changing_entropy=True, entropy_max=5,entropy_min = 3, phi_baseline=True, batch_size= 200, draw_policy=False,adaptive_baseline=False,random_start=True,log_interval=1, changing_alpha=False,return_best=False, w=None)\n",
    "\n",
    "    outputs_pretraining.append(elt_pretrain)\n",
    "    L,Lu,Lx,Lcpt = train(policy, optimizer,env=BusyCity(random_start=False), num_episodes=1000,use_dict=True,changing_entropy=True, entropy_max=3,entropy_min = 0, phi_baseline=True, batch_size= 200, draw_policy=False,adaptive_baseline=False,random_start=True,log_interval=1, changing_alpha=False,return_best=False, w=wp_new)\n",
    "\n",
    "    LL.append(L)\n",
    "    LLu.append(Lu)\n",
    "    LLx.append(Lx)\n",
    "    LLcpt.append(Lcpt)\n",
    "for a,b,c,i in zip(LLx,LLu,LLcpt,range(len(LLx))):\n",
    "    plt.plot(smooth(a,30),smooth(b,30),alpha=0.5,color=\"red\",label=\"Mean utility\" if i==0 else None)\n",
    "    plt.plot(smooth(a,30),smooth(c,30),alpha=0.5,color=\"blue\",label=\"CPT value\"if i==0 else None)\n",
    "    plt.xlabel(\"Episode\")\n",
    "    plt.legend()\n",
    "\n",
    "BusyCity().display(policy)"
   ]
  },
  {
   "cell_type": "markdown",
   "source": [
    "The code above only plots the CPT training phase and not the pre-training. The number of tries plotted can be adjusted at the beginning."
   ],
   "metadata": {
    "collapsed": false
   },
   "id": "464c92e4c5d9bd10"
  }
 ],
 "metadata": {
  "colab": {
   "provenance": []
  },
  "kernelspec": {
   "display_name": "Python 3 (ipykernel)",
   "language": "python",
   "name": "python3"
  },
  "language_info": {
   "codemirror_mode": {
    "name": "ipython",
    "version": 3
   },
   "file_extension": ".py",
   "mimetype": "text/x-python",
   "name": "python",
   "nbconvert_exporter": "python",
   "pygments_lexer": "ipython3",
   "version": "3.11.9"
  }
 },
 "nbformat": 4,
 "nbformat_minor": 5
}
