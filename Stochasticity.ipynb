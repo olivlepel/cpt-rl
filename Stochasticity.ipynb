{
 "cells": [
  {
   "cell_type": "markdown",
   "source": [
    "# Experiment on stochastic policies"
   ],
   "metadata": {
    "collapsed": false
   },
   "id": "d6b4413d55141070"
  },
  {
   "cell_type": "markdown",
   "source": [
    "![The MDP](figures/stochasticity-optimality.png)"
   ],
   "metadata": {
    "collapsed": false
   },
   "id": "72981e003d834a57"
  },
  {
   "cell_type": "code",
   "outputs": [],
   "source": [
    "from utils import *\n",
    "from training import *\n",
    "from policies import *\n",
    "from envs import *\n",
    "from electrical_utils import *\n",
    "import seaborn as sns\n",
    "import itertools"
   ],
   "metadata": {
    "collapsed": false,
    "ExecuteTime": {
     "end_time": "2024-09-04T16:18:45.248097Z",
     "start_time": "2024-09-04T16:18:41.749076Z"
    }
   },
   "id": "df5b135510f6e46c",
   "execution_count": 1
  },
  {
   "cell_type": "code",
   "outputs": [],
   "source": [
    "def evaluate_batch_size(size):\n",
    "  policy =NanoMLP()\n",
    "  optimizer = optim.Adam(policy.parameters(), lr=0.01)\n",
    "  L,Lu,Lx,Lcpt,_ = train(policy, optimizer, env=NanoWorld(),num_episodes=100, batch_size= size, draw_phi=False,draw_policy=False,adaptive_baseline=False,random_start=False,log_interval=1, changing_alpha=False, w=wp_counterexample,return_best=False)\n",
    "  return policy(torch.tensor([0.]))[0].item()"
   ],
   "metadata": {
    "collapsed": false,
    "ExecuteTime": {
     "end_time": "2024-09-04T16:18:45.258438Z",
     "start_time": "2024-09-04T16:18:45.250214Z"
    }
   },
   "id": "6681f8020374ed24",
   "execution_count": 2
  },
  {
   "cell_type": "code",
   "outputs": [],
   "source": [
    "n_tries = 10 #Change this to 100 to get the plot from the thesis (takes a lot of time)"
   ],
   "metadata": {
    "collapsed": false,
    "ExecuteTime": {
     "end_time": "2024-09-04T16:18:45.268731Z",
     "start_time": "2024-09-04T16:18:45.261066Z"
    }
   },
   "id": "8b65906d08e7803a",
   "execution_count": 3
  },
  {
   "cell_type": "code",
   "outputs": [
    {
     "name": "stderr",
     "output_type": "stream",
     "text": [
      "0it [00:00, ?it/s]C:\\Users\\olivi\\Desktop\\code_restructure\\CPT-RL\\policies.py:85: UserWarning: Implicit dimension choice for softmax has been deprecated. Change the call to include dim=X as an argument.\n",
      "  return F.softmax(x)\n",
      "61it [17:42, 32.00s/it]"
     ]
    }
   ],
   "source": [
    "X = []\n",
    "Y = []\n",
    "for size,_ in tqdm(itertools.product([10,50,100,200,300,400,500,600,700,800,900,1000],range(n_tries))):\n",
    "  X.append(size)\n",
    "  Y.append(evaluate_batch_size(size))"
   ],
   "metadata": {
    "collapsed": false,
    "is_executing": true,
    "ExecuteTime": {
     "start_time": "2024-09-04T16:18:45.270975Z"
    }
   },
   "id": "6c684c513a736ee6",
   "execution_count": null
  },
  {
   "cell_type": "code",
   "outputs": [],
   "source": [
    "XX = sorted(list(set(X)))\n",
    "runs = []\n",
    "for i in range(n_tries):\n",
    "    run = []\n",
    "    for j in range(12):\n",
    "        run.append(Y[n_tries*j+i])\n",
    "    runs.append(run)\n",
    "    \n",
    "median_performance = np.median(runs, axis=0)\n",
    "first_quartile = np.percentile(runs, 25, axis=0)\n",
    "third_quartile = np.percentile(runs, 75, axis=0)\n",
    "\n",
    "steps = XX \n",
    "steps_sqrt_inv = [elt**(-0.5) for elt in XX] \n",
    "\n",
    "\n",
    "fig, (ax1, ax2) = plt.subplots(1, 2, figsize=(10, 4))\n",
    "\n",
    "\n",
    "ax1.scatter(steps, median_performance, color='black')\n",
    "ax1.plot(steps, median_performance, color='black')\n",
    "ax1.fill_between(steps, first_quartile, third_quartile, color='black', alpha=0.3)\n",
    "ax1.set_xlabel('Batch size')\n",
    "ax1.set_ylabel('$p$ after convergence')\n",
    "\n",
    "ax1.set_ylim(0.5, 0.8)\n",
    "\n",
    "\n",
    "ax2.scatter(steps_sqrt_inv, median_performance, color='black')\n",
    "ax2.plot(steps_sqrt_inv, median_performance, color='black')\n",
    "ax2.fill_between(steps_sqrt_inv, first_quartile, third_quartile, color='black', alpha=0.3)\n",
    "ax2.set_xlabel(\"$\\\\frac{1}{\\\\sqrt{\\\\text{Batch size}}}$\")\n",
    "ax2.set_ylabel('$p$ after convergence')\n",
    "\n",
    "\n",
    "ax2.set_ylim(0.5, 0.8)\n",
    "\n",
    "\n",
    "plt.tight_layout()\n",
    "plt.show()"
   ],
   "metadata": {
    "collapsed": false,
    "is_executing": true
   },
   "id": "74c5a1ce0105e51b",
   "execution_count": null
  }
 ],
 "metadata": {
  "kernelspec": {
   "display_name": "Python 3",
   "language": "python",
   "name": "python3"
  },
  "language_info": {
   "codemirror_mode": {
    "name": "ipython",
    "version": 2
   },
   "file_extension": ".py",
   "mimetype": "text/x-python",
   "name": "python",
   "nbconvert_exporter": "python",
   "pygments_lexer": "ipython2",
   "version": "2.7.6"
  }
 },
 "nbformat": 4,
 "nbformat_minor": 5
}
