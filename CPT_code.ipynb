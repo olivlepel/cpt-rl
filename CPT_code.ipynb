{
 "cells": [
  {
   "cell_type": "markdown",
   "id": "2fa0effb",
   "metadata": {
    "id": "2fa0effb"
   },
   "source": [
    "# Busy City\n"
   ]
  },
  {
   "cell_type": "code",
   "outputs": [],
   "source": [
    "from utils import *\n",
    "from training import *\n",
    "from policies import *\n",
    "from envs import *"
   ],
   "metadata": {
    "collapsed": false,
    "ExecuteTime": {
     "end_time": "2024-09-04T08:44:00.220373Z",
     "start_time": "2024-09-04T08:44:00.197635Z"
    }
   },
   "id": "caf46661",
   "execution_count": 7
  },
  {
   "cell_type": "markdown",
   "source": [],
   "metadata": {
    "collapsed": false
   },
   "id": "6b926bdd3ed6d4fc"
  },
  {
   "cell_type": "markdown",
   "source": [
    "## The Environement\n",
    "\n"
   ],
   "metadata": {
    "collapsed": false
   },
   "id": "65fdeacc9137c8b4"
  },
  {
   "cell_type": "code",
   "execution_count": null,
   "id": "633280c9-b0cd-4461-b47b-9b9ea0c0d0b4",
   "metadata": {
    "id": "633280c9-b0cd-4461-b47b-9b9ea0c0d0b4"
   },
   "outputs": [],
   "source": []
  },
  {
   "cell_type": "code",
   "execution_count": null,
   "id": "2c0970ce-6f98-44b6-85f6-934ca0bbfa41",
   "metadata": {
    "id": "2c0970ce-6f98-44b6-85f6-934ca0bbfa41"
   },
   "outputs": [],
   "source": []
  },
  {
   "cell_type": "code",
   "execution_count": null,
   "id": "98d5432b-fa49-4f12-8bfd-c0cc6f788c83",
   "metadata": {
    "id": "98d5432b-fa49-4f12-8bfd-c0cc6f788c83"
   },
   "outputs": [],
   "source": []
  },
  {
   "cell_type": "code",
   "execution_count": null,
   "id": "43806f63-a888-4155-b027-be1cfa2d4170",
   "metadata": {
    "id": "43806f63-a888-4155-b027-be1cfa2d4170"
   },
   "outputs": [],
   "source": []
  },
  {
   "cell_type": "code",
   "execution_count": null,
   "id": "8566ddac-841a-4b08-9b45-d9f50c54c01a",
   "metadata": {
    "id": "8566ddac-841a-4b08-9b45-d9f50c54c01a"
   },
   "outputs": [],
   "source": []
  },
  {
   "cell_type": "code",
   "execution_count": null,
   "id": "ddd68587-d0e5-4cb4-b092-2254ceb3951a",
   "metadata": {
    "id": "ddd68587-d0e5-4cb4-b092-2254ceb3951a"
   },
   "outputs": [],
   "source": []
  },
  {
   "cell_type": "code",
   "execution_count": null,
   "id": "d65ede9e-1ed7-4126-a8ec-497a30cf0d49",
   "metadata": {
    "id": "d65ede9e-1ed7-4126-a8ec-497a30cf0d49"
   },
   "outputs": [],
   "source": []
  },
  {
   "cell_type": "code",
   "execution_count": null,
   "id": "5772be9f-668e-4873-bff2-481b8dbe0ace",
   "metadata": {
    "id": "5772be9f-668e-4873-bff2-481b8dbe0ace"
   },
   "outputs": [],
   "source": []
  },
  {
   "cell_type": "code",
   "execution_count": null,
   "id": "4b528650-0924-4b0e-adc1-e55d79c31bd7",
   "metadata": {
    "id": "4b528650-0924-4b0e-adc1-e55d79c31bd7"
   },
   "outputs": [],
   "source": []
  },
  {
   "cell_type": "code",
   "execution_count": null,
   "id": "f70e6c6f-960f-448c-9fe8-90eec6a115bc",
   "metadata": {
    "id": "f70e6c6f-960f-448c-9fe8-90eec6a115bc"
   },
   "outputs": [],
   "source": []
  },
  {
   "cell_type": "code",
   "execution_count": null,
   "id": "93760281-9708-4631-85e0-7e492a7bee85",
   "metadata": {
    "id": "93760281-9708-4631-85e0-7e492a7bee85"
   },
   "outputs": [],
   "source": []
  },
  {
   "cell_type": "code",
   "execution_count": null,
   "id": "fd9f3057-e6f6-4958-8bc1-b43d26e27bd0",
   "metadata": {
    "id": "fd9f3057-e6f6-4958-8bc1-b43d26e27bd0"
   },
   "outputs": [],
   "source": []
  },
  {
   "cell_type": "code",
   "execution_count": null,
   "id": "828b560d-5aed-4bba-9857-7e1d06414ea7",
   "metadata": {
    "id": "828b560d-5aed-4bba-9857-7e1d06414ea7"
   },
   "outputs": [],
   "source": []
  },
  {
   "cell_type": "code",
   "execution_count": null,
   "id": "e83b8b2d",
   "metadata": {
    "id": "e83b8b2d"
   },
   "outputs": [],
   "source": []
  },
  {
   "cell_type": "code",
   "execution_count": null,
   "id": "94a4a5fa-5054-4351-a068-18116bb3b1da",
   "metadata": {
    "id": "94a4a5fa-5054-4351-a068-18116bb3b1da"
   },
   "outputs": [],
   "source": []
  },
  {
   "cell_type": "code",
   "execution_count": null,
   "id": "f5a36a1d-0ad5-45ad-8bca-7e23bc4d990a",
   "metadata": {
    "id": "f5a36a1d-0ad5-45ad-8bca-7e23bc4d990a"
   },
   "outputs": [],
   "source": []
  },
  {
   "cell_type": "code",
   "execution_count": null,
   "id": "84b69d96-ce02-4aac-a0f6-2f4a83613d9c",
   "metadata": {
    "id": "84b69d96-ce02-4aac-a0f6-2f4a83613d9c"
   },
   "outputs": [],
   "source": []
  },
  {
   "cell_type": "code",
   "execution_count": null,
   "id": "b04070b5-6d67-4e3b-9c21-b5d2a0c2b75d",
   "metadata": {
    "id": "b04070b5-6d67-4e3b-9c21-b5d2a0c2b75d"
   },
   "outputs": [],
   "source": []
  },
  {
   "cell_type": "code",
   "execution_count": null,
   "id": "18a7ad84-24b7-4d48-9d81-80e10f697125",
   "metadata": {
    "id": "18a7ad84-24b7-4d48-9d81-80e10f697125"
   },
   "outputs": [],
   "source": []
  },
  {
   "cell_type": "code",
   "execution_count": null,
   "id": "d3713a59-c8fe-4d17-a766-df121816c24e",
   "metadata": {
    "id": "d3713a59-c8fe-4d17-a766-df121816c24e"
   },
   "outputs": [],
   "source": []
  },
  {
   "cell_type": "code",
   "execution_count": null,
   "id": "fc8ca646-5355-4b45-bc9b-a0a79089a527",
   "metadata": {
    "id": "fc8ca646-5355-4b45-bc9b-a0a79089a527"
   },
   "outputs": [],
   "source": []
  },
  {
   "cell_type": "code",
   "execution_count": null,
   "id": "KbAr-csfXwd_",
   "metadata": {
    "id": "KbAr-csfXwd_"
   },
   "outputs": [],
   "source": []
  },
  {
   "cell_type": "code",
   "source": [],
   "metadata": {
    "id": "VFC95lH6qHyt"
   },
   "id": "VFC95lH6qHyt",
   "execution_count": null,
   "outputs": []
  },
  {
   "cell_type": "code",
   "execution_count": null,
   "id": "ceHY1PaWfT_i",
   "metadata": {
    "id": "ceHY1PaWfT_i"
   },
   "outputs": [],
   "source": []
  }
 ],
 "metadata": {
  "colab": {
   "provenance": []
  },
  "kernelspec": {
   "display_name": "Python 3 (ipykernel)",
   "language": "python",
   "name": "python3"
  },
  "language_info": {
   "codemirror_mode": {
    "name": "ipython",
    "version": 3
   },
   "file_extension": ".py",
   "mimetype": "text/x-python",
   "name": "python",
   "nbconvert_exporter": "python",
   "pygments_lexer": "ipython3",
   "version": "3.11.9"
  }
 },
 "nbformat": 4,
 "nbformat_minor": 5
}
